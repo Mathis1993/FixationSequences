{
 "cells": [
  {
   "cell_type": "markdown",
   "metadata": {},
   "source": [
    "# Visdom Tutorial\n",
    "https://github.com/noagarcia/visdom-tutorial"
   ]
  },
  {
   "cell_type": "code",
   "execution_count": 8,
   "metadata": {},
   "outputs": [],
   "source": [
    "import visdom\n",
    "import torch"
   ]
  },
  {
   "cell_type": "markdown",
   "metadata": {},
   "source": [
    "(Install)"
   ]
  },
  {
   "cell_type": "code",
   "execution_count": null,
   "metadata": {},
   "outputs": [],
   "source": [
    "#pip install visdom\n",
    "\n",
    "#conda\n",
    "#conda install -c conda-forge visdom "
   ]
  },
  {
   "cell_type": "markdown",
   "metadata": {},
   "source": [
    "Start server (from command line)"
   ]
  },
  {
   "cell_type": "code",
   "execution_count": 10,
   "metadata": {},
   "outputs": [],
   "source": [
    "#python -m visdom.server\n",
    "\n",
    "#at specific port eg\n",
    "#python -m visdom.server -p 8098"
   ]
  },
  {
   "cell_type": "markdown",
   "metadata": {},
   "source": [
    "VisdomLinePlotter\n",
    "\n",
    "We first create a visdom object to make the calls for us. You can find this code in utils.py file:"
   ]
  },
  {
   "cell_type": "code",
   "execution_count": 11,
   "metadata": {},
   "outputs": [],
   "source": [
    "from visdom import Visdom\n",
    "\n",
    "class VisdomLinePlotter(object):\n",
    "    \"\"\"Plots to Visdom\"\"\"\n",
    "    def __init__(self, env_name='main'):\n",
    "        self.viz = Visdom()\n",
    "        self.env = env_name\n",
    "        self.plots = {}\n",
    "    def plot(self, var_name, split_name, title_name, x, y):\n",
    "        if var_name not in self.plots:\n",
    "            self.plots[var_name] = self.viz.line(X=np.array([x,x]), Y=np.array([y,y]), env=self.env, opts=dict(\n",
    "                legend=[split_name],\n",
    "                title=title_name,\n",
    "                xlabel='Epochs',\n",
    "                ylabel=var_name\n",
    "            ))\n",
    "        else:\n",
    "            self.viz.line(X=np.array([x]), Y=np.array([y]), env=self.env, win=self.plots[var_name], name=split_name, update = 'append')"
   ]
  },
  {
   "cell_type": "markdown",
   "metadata": {},
   "source": [
    "To create a new plot or to add new data to an existing plot, we will call plot(var_name, split_name, title_name, x, y), with:\n",
    "\n",
    "    - var_name: variable name (e.g. loss, acc)\n",
    "    - split_name: split name (e.g. train, val)\n",
    "    - title_name: titles of the graph (e.g. Classification Accuracy)\n",
    "    - x: x axis value (e.g. epoch number)\n",
    "    - y: y axis value (e.g. epoch loss)\n",
    "\n",
    "Main process\n",
    "\n",
    "In train.py we create the visdom object as a global variable:"
   ]
  },
  {
   "cell_type": "code",
   "execution_count": 14,
   "metadata": {},
   "outputs": [
    {
     "name": "stderr",
     "output_type": "stream",
     "text": [
      "WARNING:root:Setting up a new session...\n"
     ]
    }
   ],
   "source": [
    "#import utils\n",
    "\n",
    "if __name__ == \"__main__\":\n",
    "    \n",
    "    global plotter\n",
    "    plotter = VisdomLinePlotter(env_name='Tutorial Plots')"
   ]
  },
  {
   "cell_type": "markdown",
   "metadata": {},
   "source": [
    "Now we can use plotter in any function to add data to our graphs.\n",
    "\n",
    "In the training function we add the loss value after every epoch as:"
   ]
  },
  {
   "cell_type": "code",
   "execution_count": null,
   "metadata": {},
   "outputs": [],
   "source": [
    "plotter.plot('loss', 'train', 'Class Loss', epoch, losses.avg)"
   ]
  },
  {
   "cell_type": "markdown",
   "metadata": {},
   "source": [
    "In the validation function we add the loss and the accuracy values as:"
   ]
  },
  {
   "cell_type": "code",
   "execution_count": null,
   "metadata": {},
   "outputs": [],
   "source": [
    "plotter.plot('loss', 'val', 'Class Loss', epoch, losses.avg)\n",
    "plotter.plot('acc', 'val', 'Class Accuracy', epoch, acc)"
   ]
  },
  {
   "cell_type": "markdown",
   "metadata": {},
   "source": [
    "And that's it! Simple, isn't it?\n",
    "\n",
    "Now we can check the graphs at any point by visiting the visdom interface at http://localhost:8097 as long as the visdom server is still running."
   ]
  },
  {
   "cell_type": "markdown",
   "metadata": {},
   "source": [
    "**To start a server**"
   ]
  },
  {
   "cell_type": "code",
   "execution_count": null,
   "metadata": {},
   "outputs": [],
   "source": [
    "#python -m visdom.server --hostname 0.0.0.0 -port 12345"
   ]
  },
  {
   "cell_type": "markdown",
   "metadata": {},
   "source": [
    "Then the url to access it\n",
    "<br>\n",
    "http://130.63.188.108:12345/"
   ]
  },
  {
   "cell_type": "markdown",
   "metadata": {},
   "source": [
    "**Select server and port from client side on a visdom object**"
   ]
  },
  {
   "cell_type": "code",
   "execution_count": null,
   "metadata": {},
   "outputs": [],
   "source": [
    "#import visdom\n",
    "#import numpy as np\n",
    "#vis = visdom.Visdom(server=\"http://130.63.188.108\", port=12345)\n",
    "#vis.text('Hello, world!')\n",
    "#vis.image(np.ones((3, 10, 10)))"
   ]
  }
 ],
 "metadata": {
  "kernelspec": {
   "display_name": "Python 3",
   "language": "python",
   "name": "python3"
  },
  "language_info": {
   "codemirror_mode": {
    "name": "ipython",
    "version": 3
   },
   "file_extension": ".py",
   "mimetype": "text/x-python",
   "name": "python",
   "nbconvert_exporter": "python",
   "pygments_lexer": "ipython3",
   "version": "3.5.2"
  }
 },
 "nbformat": 4,
 "nbformat_minor": 2
}
