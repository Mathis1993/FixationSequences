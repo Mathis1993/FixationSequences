{
 "cells": [
  {
   "cell_type": "code",
   "execution_count": 9,
   "metadata": {},
   "outputs": [],
   "source": [
    "import torch\n",
    "import torch.nn as nn"
   ]
  },
  {
   "cell_type": "code",
   "execution_count": 3,
   "metadata": {},
   "outputs": [
    {
     "name": "stdout",
     "output_type": "stream",
     "text": [
      "tensor(1.0000)\n",
      "torch.Size([8, 1, 100, 100])\n"
     ]
    }
   ],
   "source": [
    "#input\n",
    "x = torch.randn(8,1,100,100)\n",
    "#spatial softmax over x and y pixel-dimensions\n",
    "y = nn.Softmax(2)(x.view(*x.size()[:2], -1)).view_as(x)\n",
    "#Z.B. Exemplar mit index 2 aus diesem Batch\n",
    "print(y[2,0].sum())\n",
    "print(y.size())"
   ]
  },
  {
   "cell_type": "code",
   "execution_count": 8,
   "metadata": {},
   "outputs": [
    {
     "name": "stdout",
     "output_type": "stream",
     "text": [
      "tensor(1.)\n",
      "torch.Size([8, 1, 4, 4])\n"
     ]
    }
   ],
   "source": [
    "#Heruntergebrochen\n",
    "\n",
    "#input\n",
    "x = torch.randn(8,1,4,4)\n",
    "\n",
    "#size for softmax input\n",
    "input_size = *x.size()[:2], -1 #(8,1, -1) --> (8,1,16)\n",
    "\n",
    "#tensor zu dieser size ändern\n",
    "x_new = x.view(input_size)\n",
    "\n",
    "#Softmax über dim=2, sodass jede 16 Einträge dieser Dimension zusammen 1 ergeben\n",
    "x_new = nn.Softmax(2)(x_new)\n",
    "\n",
    "#von (8,1,16) wieder zu (8,1,4,4)\n",
    "x_new = x_new.view_as(x) #a.view_as(b) formt a zu Dimensionen von b um  \n",
    "\n",
    "print(x_new[2,0].sum())\n",
    "print(x_new.size())"
   ]
  },
  {
   "cell_type": "code",
   "execution_count": 18,
   "metadata": {},
   "outputs": [
    {
     "name": "stdout",
     "output_type": "stream",
     "text": [
      "torch.Size([4, 4])\n",
      "tensor([[0, 1]])\n",
      "tensor(1.)\n"
     ]
    }
   ],
   "source": [
    "a = torch.randn(4,4)\n",
    "b = torch.zeros(4,4)\n",
    "b[0,1] = 1\n",
    "print(b.size())\n",
    "print(torch.nonzero(b))\n",
    "print(b[0,1])"
   ]
  },
  {
   "cell_type": "code",
   "execution_count": null,
   "metadata": {},
   "outputs": [],
   "source": []
  }
 ],
 "metadata": {
  "kernelspec": {
   "display_name": "Python 3",
   "language": "python",
   "name": "python3"
  },
  "language_info": {
   "codemirror_mode": {
    "name": "ipython",
    "version": 3
   },
   "file_extension": ".py",
   "mimetype": "text/x-python",
   "name": "python",
   "nbconvert_exporter": "python",
   "pygments_lexer": "ipython3",
   "version": "3.5.2"
  }
 },
 "nbformat": 4,
 "nbformat_minor": 2
}
