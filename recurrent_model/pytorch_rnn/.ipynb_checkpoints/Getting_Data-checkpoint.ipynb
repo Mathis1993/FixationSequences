{
 "cells": [
  {
   "cell_type": "code",
   "execution_count": 1,
   "metadata": {},
   "outputs": [
    {
     "name": "stdout",
     "output_type": "stream",
     "text": [
      "Successfully converted dataset from Matlab to Python.\n",
      "train set size: 23887\n",
      "val set size: 6825\n",
      "test set size: 3412\n",
      "Successfully cleaned and split the data.\n"
     ]
    }
   ],
   "source": [
    "from utils.Data_Conversion import convert_data\n",
    "from utils.Clean_And_Split_Data import clean_and_split\n",
    "\n",
    "convert_data()\n",
    "clean_and_split()"
   ]
  }
 ],
 "metadata": {
  "kernelspec": {
   "display_name": "Python 3",
   "language": "python",
   "name": "python3"
  },
  "language_info": {
   "codemirror_mode": {
    "name": "ipython",
    "version": 3
   },
   "file_extension": ".py",
   "mimetype": "text/x-python",
   "name": "python",
   "nbconvert_exporter": "python",
   "pygments_lexer": "ipython3",
   "version": "3.5.2"
  }
 },
 "nbformat": 4,
 "nbformat_minor": 2
}
