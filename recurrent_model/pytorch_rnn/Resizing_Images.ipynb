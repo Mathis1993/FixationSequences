{
 "cells": [
  {
   "cell_type": "code",
   "execution_count": 2,
   "metadata": {},
   "outputs": [
    {
     "name": "stdout",
     "output_type": "stream",
     "text": [
      "Successfully resized images to (100, 100).\n"
     ]
    }
   ],
   "source": [
    "from ResizeImages import resizeImage\n",
    "import pandas as pd\n",
    "\n",
    "#read json with all images (version with each image occuring only once)\n",
    "#read json with all images (version with each image occuring only once)\n",
    "allImages = pd.read_json(\"allImages.json\", orient=\"split\")\n",
    "\n",
    "#take series (column) with the image path and convert it to list\n",
    "#loop over that list and resize images, just overwriting them with their smaller versions (input directory = output directory)\n",
    "basic_path = \"figrim/fillerData/\"\n",
    "size = (100, 100) #as losing 96 pixels through the resnet18\n",
    "\n",
    "for i in range(len(allImages)):\n",
    "    filename = allImages.loc[i, \"filename\"]\n",
    "    im_path = allImages.loc[i, \"impath\"]\n",
    "    cur_path = basic_path + im_path\n",
    "    resizeImage(infile=cur_path, infile_name_only=filename, output_dir=cur_path, size=size)\n",
    "\n",
    "print(\"Successfully resized images to {}.\".format(size))"
   ]
  },
  {
   "cell_type": "code",
   "execution_count": null,
   "metadata": {},
   "outputs": [],
   "source": []
  }
 ],
 "metadata": {
  "kernelspec": {
   "display_name": "Python 3",
   "language": "python",
   "name": "python3"
  },
  "language_info": {
   "codemirror_mode": {
    "name": "ipython",
    "version": 3
   },
   "file_extension": ".py",
   "mimetype": "text/x-python",
   "name": "python",
   "nbconvert_exporter": "python",
   "pygments_lexer": "ipython3",
   "version": "3.5.2"
  }
 },
 "nbformat": 4,
 "nbformat_minor": 2
}
