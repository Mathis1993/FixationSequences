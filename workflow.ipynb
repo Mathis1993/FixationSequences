{
 "cells": [
  {
   "cell_type": "markdown",
   "metadata": {},
   "source": [
    "# Workflow\n",
    "\n",
    "To keep track of the complete workflow of this project."
   ]
  },
  {
   "cell_type": "markdown",
   "metadata": {},
   "source": [
    "## Description of Dataset and Conversion from Matlab to Python\n",
    "\n",
    "The original Matlab-Structure (containing nested data) is replicated in Python and unfolded.\n",
    "\n",
    "- [data_conversion](http://localhost:8888/notebooks/sciebo/Kanada/Projekt/FixationSequences/data_conversion.ipynb)"
   ]
  },
  {
   "cell_type": "markdown",
   "metadata": {},
   "source": [
    "## Cleaning and Splitting the Data\n",
    "There are trials for which no fixations are recorded. These are deleted from the dataset. Next, the dataset is split into training/validatin/test sets.\n",
    "- [data cleaning](http://localhost:8888/edit/sciebo/Kanada/Projekt/FixationSequences/Clean_and_split_data.py)"
   ]
  },
  {
   "cell_type": "code",
   "execution_count": null,
   "metadata": {},
   "outputs": [],
   "source": []
  }
 ],
 "metadata": {
  "kernelspec": {
   "display_name": "Python (figrimFillers)",
   "language": "python",
   "name": "figrimfillers"
  },
  "language_info": {
   "codemirror_mode": {
    "name": "ipython",
    "version": 3
   },
   "file_extension": ".py",
   "mimetype": "text/x-python",
   "name": "python",
   "nbconvert_exporter": "python",
   "pygments_lexer": "ipython3",
   "version": "3.7.2"
  },
  "notify_time": "30",
  "toc": {
   "base_numbering": "1",
   "nav_menu": {},
   "number_sections": true,
   "sideBar": true,
   "skip_h1_title": true,
   "title_cell": "Table of Contents",
   "title_sidebar": "Contents",
   "toc_cell": false,
   "toc_position": {},
   "toc_section_display": true,
   "toc_window_display": true
  }
 },
 "nbformat": 4,
 "nbformat_minor": 2
}
